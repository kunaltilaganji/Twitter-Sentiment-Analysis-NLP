{
 "cells": [
  {
   "cell_type": "code",
   "execution_count": 1,
   "metadata": {
    "_cell_guid": "b1076dfc-b9ad-4769-8c92-a6c4dae69d19",
    "_uuid": "8f2839f25d086af736a60e9eeb907d3b93b6e0e5",
    "trusted": true
   },
   "outputs": [],
   "source": [
    "import pandas as pd\n",
    "import numpy as np\n",
    "import re\n",
    "import nltk\n",
    "import torch\n",
    "import torch.nn as nn\n",
    "import torch.optim as optim\n",
    "from torch.utils.data import DataLoader, TensorDataset\n",
    "from sklearn.model_selection import train_test_split\n",
    "from sklearn.preprocessing import LabelEncoder\n",
    "from sklearn.metrics import accuracy_score, classification_report\n",
    "from tensorflow.keras.preprocessing.text import Tokenizer\n",
    "from tensorflow.keras.preprocessing.sequence import pad_sequences"
   ]
  },
  {
   "cell_type": "code",
   "execution_count": 2,
   "metadata": {
    "trusted": true
   },
   "outputs": [],
   "source": [
    "train_data = pd.read_csv(\"twitter_training.csv\")\n",
    "val_data = pd.read_csv(\"twitter_validation.csv\")"
   ]
  },
  {
   "cell_type": "code",
   "execution_count": 3,
   "metadata": {
    "trusted": true
   },
   "outputs": [],
   "source": [
    "train_data.columns = ['ID', 'Category', 'Sentiment', 'Tweet']\n",
    "val_data.columns = ['ID', 'Category', 'Sentiment', 'Tweet']"
   ]
  },
  {
   "cell_type": "code",
   "execution_count": 4,
   "metadata": {
    "trusted": true
   },
   "outputs": [],
   "source": [
    "train_data.dropna(subset=['Tweet'], inplace=True)\n",
    "val_data.dropna(subset=['Tweet'], inplace=True)"
   ]
  },
  {
   "cell_type": "code",
   "execution_count": 5,
   "metadata": {
    "trusted": true
   },
   "outputs": [
    {
     "name": "stderr",
     "output_type": "stream",
     "text": [
      "[nltk_data] Downloading package stopwords to C:\\Users\\Kunal\n",
      "[nltk_data]     Tilaganji\\AppData\\Roaming\\nltk_data...\n",
      "[nltk_data]   Unzipping corpora\\stopwords.zip.\n"
     ]
    }
   ],
   "source": [
    "nltk.download('stopwords')\n",
    "stop_words = set(nltk.corpus.stopwords.words('english'))"
   ]
  },
  {
   "cell_type": "code",
   "execution_count": 6,
   "metadata": {
    "trusted": true
   },
   "outputs": [],
   "source": [
    "def preprocess_text(text):\n",
    "    text = text.lower()  \n",
    "    text = re.sub(r'http\\S+', '', text)  \n",
    "    text = re.sub(r'@\\w+', '', text)  \n",
    "    text = re.sub(r'#\\w+', '', text) \n",
    "    text = re.sub(r'[^\\w\\s]', '', text) \n",
    "    text = \" \".join([word for word in text.split() if word not in stop_words])\n",
    "    return text"
   ]
  },
  {
   "cell_type": "code",
   "execution_count": 7,
   "metadata": {
    "trusted": true
   },
   "outputs": [],
   "source": [
    "train_data['cleaned_text'] = train_data['Tweet'].apply(preprocess_text)\n",
    "val_data['cleaned_text'] = val_data['Tweet'].apply(preprocess_text)"
   ]
  },
  {
   "cell_type": "code",
   "execution_count": 8,
   "metadata": {
    "trusted": true
   },
   "outputs": [],
   "source": [
    "label_encoder = LabelEncoder()\n",
    "y_train = label_encoder.fit_transform(train_data['Sentiment'])\n",
    "y_val = label_encoder.transform(val_data['Sentiment'])"
   ]
  },
  {
   "cell_type": "code",
   "execution_count": 9,
   "metadata": {
    "trusted": true
   },
   "outputs": [],
   "source": [
    "tokenizer = Tokenizer(num_words=5000, oov_token=\"<OOV>\")\n",
    "tokenizer.fit_on_texts(train_data['cleaned_text'])\n",
    "\n",
    "X_train = tokenizer.texts_to_sequences(train_data['cleaned_text'])\n",
    "X_val = tokenizer.texts_to_sequences(val_data['cleaned_text'])"
   ]
  },
  {
   "cell_type": "code",
   "execution_count": 10,
   "metadata": {
    "trusted": true
   },
   "outputs": [],
   "source": [
    "max_length = 50  \n",
    "X_train = pad_sequences(X_train, maxlen=max_length, padding='post')\n",
    "X_val = pad_sequences(X_val, maxlen=max_length, padding='post')"
   ]
  },
  {
   "cell_type": "code",
   "execution_count": 11,
   "metadata": {
    "trusted": true
   },
   "outputs": [],
   "source": [
    "batch_size = 64\n",
    "\n",
    "train_dataset = TensorDataset(torch.tensor(X_train, dtype=torch.long), torch.tensor(y_train, dtype=torch.long))\n",
    "val_dataset = TensorDataset(torch.tensor(X_val, dtype=torch.long), torch.tensor(y_val, dtype=torch.long))\n",
    "\n",
    "train_loader = DataLoader(train_dataset, batch_size=batch_size, shuffle=True)\n",
    "val_loader = DataLoader(val_dataset, batch_size=batch_size, shuffle=False)"
   ]
  },
  {
   "cell_type": "code",
   "execution_count": 12,
   "metadata": {
    "trusted": true
   },
   "outputs": [],
   "source": [
    "class SentimentLSTM(nn.Module):\n",
    "    def __init__(self, vocab_size, embedding_dim, hidden_dim, output_dim):\n",
    "        super(SentimentLSTM, self).__init__()\n",
    "        self.embedding = nn.Embedding(vocab_size, embedding_dim)\n",
    "        self.lstm = nn.LSTM(embedding_dim, hidden_dim, num_layers=2, batch_first=True, dropout=0.5)\n",
    "        self.fc = nn.Linear(hidden_dim, output_dim)\n",
    "        self.dropout = nn.Dropout(0.3)\n",
    "\n",
    "    def forward(self, x):\n",
    "        x = self.embedding(x)\n",
    "        x, _ = self.lstm(x)\n",
    "        x = self.dropout(x[:, -1, :]) \n",
    "        x = self.fc(x)\n",
    "        return x"
   ]
  },
  {
   "cell_type": "code",
   "execution_count": 13,
   "metadata": {
    "trusted": true
   },
   "outputs": [],
   "source": [
    "vocab_size = 5000\n",
    "embedding_dim = 128\n",
    "hidden_dim = 256\n",
    "output_dim = len(label_encoder.classes_)"
   ]
  },
  {
   "cell_type": "code",
   "execution_count": 14,
   "metadata": {
    "trusted": true
   },
   "outputs": [],
   "source": [
    "model = SentimentLSTM(vocab_size, embedding_dim, hidden_dim, output_dim)\n",
    "criterion = nn.CrossEntropyLoss()\n",
    "optimizer = optim.Adam(model.parameters(), lr=0.001)"
   ]
  },
  {
   "cell_type": "code",
   "execution_count": 15,
   "metadata": {
    "trusted": true
   },
   "outputs": [
    {
     "name": "stdout",
     "output_type": "stream",
     "text": [
      "Epoch [1/10], Batch [0/1157], Loss: 1.4019\n",
      "Epoch [1/10], Batch [100/1157], Loss: 1.3771\n",
      "Epoch [1/10], Batch [200/1157], Loss: 1.4088\n",
      "Epoch [1/10], Batch [300/1157], Loss: 1.3580\n",
      "Epoch [1/10], Batch [400/1157], Loss: 1.4071\n",
      "Epoch [1/10], Batch [500/1157], Loss: 1.3708\n",
      "Epoch [1/10], Batch [600/1157], Loss: 1.3546\n",
      "Epoch [1/10], Batch [700/1157], Loss: 1.3982\n",
      "Epoch [1/10], Batch [800/1157], Loss: 1.3981\n",
      "Epoch [1/10], Batch [900/1157], Loss: 1.3917\n",
      "Epoch [1/10], Batch [1000/1157], Loss: 1.3781\n",
      "Epoch [1/10], Batch [1100/1157], Loss: 1.3828\n",
      "Epoch 1/10 | Train Loss: 1.3685 | Validation Accuracy: 0.2663\n",
      "Epoch [2/10], Batch [0/1157], Loss: 1.3315\n",
      "Epoch [2/10], Batch [100/1157], Loss: 1.3706\n",
      "Epoch [2/10], Batch [200/1157], Loss: 1.3771\n",
      "Epoch [2/10], Batch [300/1157], Loss: 1.3551\n",
      "Epoch [2/10], Batch [400/1157], Loss: 1.4094\n",
      "Epoch [2/10], Batch [500/1157], Loss: 1.3517\n",
      "Epoch [2/10], Batch [600/1157], Loss: 1.3645\n",
      "Epoch [2/10], Batch [700/1157], Loss: 1.3720\n",
      "Epoch [2/10], Batch [800/1157], Loss: 1.3467\n",
      "Epoch [2/10], Batch [900/1157], Loss: 1.3722\n",
      "Epoch [2/10], Batch [1000/1157], Loss: 1.3946\n",
      "Epoch [2/10], Batch [1100/1157], Loss: 1.3470\n",
      "Epoch 2/10 | Train Loss: 1.3675 | Validation Accuracy: 0.2663\n",
      "Epoch [3/10], Batch [0/1157], Loss: 1.3727\n",
      "Epoch [3/10], Batch [100/1157], Loss: 1.3473\n",
      "Epoch [3/10], Batch [200/1157], Loss: 1.3781\n",
      "Epoch [3/10], Batch [300/1157], Loss: 1.3472\n",
      "Epoch [3/10], Batch [400/1157], Loss: 1.3422\n",
      "Epoch [3/10], Batch [500/1157], Loss: 1.3510\n",
      "Epoch [3/10], Batch [600/1157], Loss: 1.3491\n",
      "Epoch [3/10], Batch [700/1157], Loss: 1.4166\n",
      "Epoch [3/10], Batch [800/1157], Loss: 1.3486\n",
      "Epoch [3/10], Batch [900/1157], Loss: 1.3728\n",
      "Epoch [3/10], Batch [1000/1157], Loss: 1.3510\n",
      "Epoch [3/10], Batch [1100/1157], Loss: 1.3564\n",
      "Epoch 3/10 | Train Loss: 1.3673 | Validation Accuracy: 0.2663\n",
      "Epoch [4/10], Batch [0/1157], Loss: 1.3800\n",
      "Epoch [4/10], Batch [100/1157], Loss: 1.3681\n",
      "Epoch [4/10], Batch [200/1157], Loss: 1.3818\n",
      "Epoch [4/10], Batch [300/1157], Loss: 1.3855\n",
      "Epoch [4/10], Batch [400/1157], Loss: 1.3829\n",
      "Epoch [4/10], Batch [500/1157], Loss: 1.3963\n",
      "Epoch [4/10], Batch [600/1157], Loss: 1.3533\n",
      "Epoch [4/10], Batch [700/1157], Loss: 1.3582\n",
      "Epoch [4/10], Batch [800/1157], Loss: 1.3674\n",
      "Epoch [4/10], Batch [900/1157], Loss: 1.3458\n",
      "Epoch [4/10], Batch [1000/1157], Loss: 1.4242\n",
      "Epoch [4/10], Batch [1100/1157], Loss: 1.3398\n",
      "Epoch 4/10 | Train Loss: 1.3654 | Validation Accuracy: 0.3814\n",
      "Epoch [5/10], Batch [0/1157], Loss: 1.3700\n",
      "Epoch [5/10], Batch [100/1157], Loss: 1.2863\n",
      "Epoch [5/10], Batch [200/1157], Loss: 1.1753\n",
      "Epoch [5/10], Batch [300/1157], Loss: 1.2748\n",
      "Epoch [5/10], Batch [400/1157], Loss: 1.2017\n",
      "Epoch [5/10], Batch [500/1157], Loss: 1.1510\n",
      "Epoch [5/10], Batch [600/1157], Loss: 1.3395\n",
      "Epoch [5/10], Batch [700/1157], Loss: 1.1980\n",
      "Epoch [5/10], Batch [800/1157], Loss: 1.2198\n",
      "Epoch [5/10], Batch [900/1157], Loss: 1.1098\n",
      "Epoch [5/10], Batch [1000/1157], Loss: 1.2451\n",
      "Epoch [5/10], Batch [1100/1157], Loss: 1.1440\n",
      "Epoch 5/10 | Train Loss: 1.2147 | Validation Accuracy: 0.6086\n",
      "Epoch [6/10], Batch [0/1157], Loss: 1.2893\n",
      "Epoch [6/10], Batch [100/1157], Loss: 0.9956\n",
      "Epoch [6/10], Batch [200/1157], Loss: 1.1636\n",
      "Epoch [6/10], Batch [300/1157], Loss: 1.0700\n",
      "Epoch [6/10], Batch [400/1157], Loss: 0.8801\n",
      "Epoch [6/10], Batch [500/1157], Loss: 1.1145\n",
      "Epoch [6/10], Batch [600/1157], Loss: 0.8186\n",
      "Epoch [6/10], Batch [700/1157], Loss: 0.8513\n",
      "Epoch [6/10], Batch [800/1157], Loss: 0.8959\n",
      "Epoch [6/10], Batch [900/1157], Loss: 0.9901\n",
      "Epoch [6/10], Batch [1000/1157], Loss: 0.8770\n",
      "Epoch [6/10], Batch [1100/1157], Loss: 0.9214\n",
      "Epoch 6/10 | Train Loss: 0.9564 | Validation Accuracy: 0.7518\n",
      "Epoch [7/10], Batch [0/1157], Loss: 0.8581\n",
      "Epoch [7/10], Batch [100/1157], Loss: 0.7785\n",
      "Epoch [7/10], Batch [200/1157], Loss: 0.6614\n",
      "Epoch [7/10], Batch [300/1157], Loss: 0.7078\n",
      "Epoch [7/10], Batch [400/1157], Loss: 0.6742\n",
      "Epoch [7/10], Batch [500/1157], Loss: 0.5687\n",
      "Epoch [7/10], Batch [600/1157], Loss: 0.6832\n",
      "Epoch [7/10], Batch [700/1157], Loss: 0.6867\n",
      "Epoch [7/10], Batch [800/1157], Loss: 0.7812\n",
      "Epoch [7/10], Batch [900/1157], Loss: 0.9886\n",
      "Epoch [7/10], Batch [1000/1157], Loss: 0.6588\n",
      "Epoch [7/10], Batch [1100/1157], Loss: 0.5881\n",
      "Epoch 7/10 | Train Loss: 0.7253 | Validation Accuracy: 0.8378\n",
      "Epoch [8/10], Batch [0/1157], Loss: 0.6625\n",
      "Epoch [8/10], Batch [100/1157], Loss: 0.3580\n",
      "Epoch [8/10], Batch [200/1157], Loss: 0.3364\n",
      "Epoch [8/10], Batch [300/1157], Loss: 0.6213\n",
      "Epoch [8/10], Batch [400/1157], Loss: 0.7121\n",
      "Epoch [8/10], Batch [500/1157], Loss: 0.7300\n",
      "Epoch [8/10], Batch [600/1157], Loss: 0.7265\n",
      "Epoch [8/10], Batch [700/1157], Loss: 0.7031\n",
      "Epoch [8/10], Batch [800/1157], Loss: 0.4676\n",
      "Epoch [8/10], Batch [900/1157], Loss: 0.4435\n",
      "Epoch [8/10], Batch [1000/1157], Loss: 0.6725\n",
      "Epoch [8/10], Batch [1100/1157], Loss: 0.6040\n",
      "Epoch 8/10 | Train Loss: 0.5450 | Validation Accuracy: 0.8839\n",
      "Epoch [9/10], Batch [0/1157], Loss: 0.3655\n",
      "Epoch [9/10], Batch [100/1157], Loss: 0.2652\n",
      "Epoch [9/10], Batch [200/1157], Loss: 0.1941\n",
      "Epoch [9/10], Batch [300/1157], Loss: 0.2835\n",
      "Epoch [9/10], Batch [400/1157], Loss: 0.5957\n",
      "Epoch [9/10], Batch [500/1157], Loss: 0.3036\n",
      "Epoch [9/10], Batch [600/1157], Loss: 0.2983\n",
      "Epoch [9/10], Batch [700/1157], Loss: 0.4740\n",
      "Epoch [9/10], Batch [800/1157], Loss: 0.3599\n",
      "Epoch [9/10], Batch [900/1157], Loss: 0.5094\n",
      "Epoch [9/10], Batch [1000/1157], Loss: 0.2935\n",
      "Epoch [9/10], Batch [1100/1157], Loss: 0.4016\n",
      "Epoch 9/10 | Train Loss: 0.4174 | Validation Accuracy: 0.8919\n",
      "Epoch [10/10], Batch [0/1157], Loss: 0.3652\n",
      "Epoch [10/10], Batch [100/1157], Loss: 0.3912\n",
      "Epoch [10/10], Batch [200/1157], Loss: 0.3879\n",
      "Epoch [10/10], Batch [300/1157], Loss: 0.4297\n",
      "Epoch [10/10], Batch [400/1157], Loss: 0.3702\n",
      "Epoch [10/10], Batch [500/1157], Loss: 0.3148\n",
      "Epoch [10/10], Batch [600/1157], Loss: 0.2986\n",
      "Epoch [10/10], Batch [700/1157], Loss: 0.5612\n",
      "Epoch [10/10], Batch [800/1157], Loss: 0.4427\n",
      "Epoch [10/10], Batch [900/1157], Loss: 0.3123\n",
      "Epoch [10/10], Batch [1000/1157], Loss: 0.3877\n",
      "Epoch [10/10], Batch [1100/1157], Loss: 0.3278\n",
      "Epoch 10/10 | Train Loss: 0.3379 | Validation Accuracy: 0.9129\n",
      "Accuracy Score: 0.9129129129129129\n",
      "Classification Report:\n",
      "               precision    recall  f1-score   support\n",
      "\n",
      "  Irrelevant       0.87      0.87      0.87       171\n",
      "    Negative       0.96      0.94      0.95       266\n",
      "     Neutral       0.94      0.88      0.91       285\n",
      "    Positive       0.87      0.95      0.91       277\n",
      "\n",
      "    accuracy                           0.91       999\n",
      "   macro avg       0.91      0.91      0.91       999\n",
      "weighted avg       0.91      0.91      0.91       999\n",
      "\n"
     ]
    }
   ],
   "source": [
    "epochs = 10  \n",
    "device = torch.device(\"cuda\" if torch.cuda.is_available() else \"cpu\")\n",
    "model = model.to(device)\n",
    "\n",
    "for epoch in range(epochs):\n",
    "    model.train()\n",
    "    train_loss = 0\n",
    "    \n",
    "    for batch_idx, (inputs, labels) in enumerate(train_loader):\n",
    "        inputs, labels = inputs.to(device), labels.to(device)\n",
    "        \n",
    "        optimizer.zero_grad()  \n",
    "        outputs = model(inputs)  \n",
    "        loss = criterion(outputs, labels)  \n",
    "        \n",
    "        loss.backward()  \n",
    "        optimizer.step()  \n",
    "        \n",
    "        train_loss += loss.item()\n",
    "        \n",
    "        if batch_idx % 100 == 0:\n",
    "            print(f\"Epoch [{epoch+1}/{epochs}], Batch [{batch_idx}/{len(train_loader)}], Loss: {loss.item():.4f}\")\n",
    "\n",
    "    model.eval()\n",
    "    val_preds, val_labels = [], []\n",
    "    with torch.no_grad():\n",
    "        for inputs, labels in val_loader:\n",
    "            inputs, labels = inputs.to(device), labels.to(device)\n",
    "            outputs = model(inputs)\n",
    "            _, predicted = torch.max(outputs, 1)\n",
    "            val_preds.extend(predicted.cpu().numpy())\n",
    "            val_labels.extend(labels.cpu().numpy())\n",
    "    \n",
    "    val_accuracy = accuracy_score(val_labels, val_preds)\n",
    "    print(f\"Epoch {epoch + 1}/{epochs} | Train Loss: {train_loss / len(train_loader):.4f} | Validation Accuracy: {val_accuracy:.4f}\")\n",
    "\n",
    "\n",
    "print(\"Accuracy Score:\", val_accuracy)\n",
    "print(\"Classification Report:\\n\", classification_report(val_labels, val_preds, target_names=label_encoder.classes_))\n"
   ]
  }
 ],
 "metadata": {
  "kaggle": {
   "accelerator": "none",
   "dataSources": [
    {
     "datasetId": 1520310,
     "sourceId": 2510329,
     "sourceType": "datasetVersion"
    }
   ],
   "dockerImageVersionId": 30786,
   "isGpuEnabled": false,
   "isInternetEnabled": true,
   "language": "python",
   "sourceType": "notebook"
  },
  "kernelspec": {
   "display_name": "Python 3",
   "language": "python",
   "name": "python3"
  },
  "language_info": {
   "codemirror_mode": {
    "name": "ipython",
    "version": 3
   },
   "file_extension": ".py",
   "mimetype": "text/x-python",
   "name": "python",
   "nbconvert_exporter": "python",
   "pygments_lexer": "ipython3",
   "version": "3.12.4"
  }
 },
 "nbformat": 4,
 "nbformat_minor": 4
}
